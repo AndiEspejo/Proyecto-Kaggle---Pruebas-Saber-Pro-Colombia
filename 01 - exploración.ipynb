{
 "cells": [
  {
   "cell_type": "markdown",
   "metadata": {},
   "source": [
    "# Exploración Exhaustiva de Datos - Pruebas Saber Pro Colombia\n",
    "\n",
    "## Descripción del Dataset\n",
    "\n",
    "Este notebook presenta una exploración detallada y exhaustiva de los datos de las Pruebas Saber Pro en Colombia. El dataset contiene información sobre estudiantes universitarios y su rendimiento académico, incluyendo:\n",
    "\n",
    "- **Variable Objetivo**: `RENDIMIENTO_GLOBAL` (bajo, medio-bajo, medio-alto, alto)\n",
    "- **Variables Demográficas**: Departamento, periodo académico\n",
    "- **Variables Académicas**: Programa académico, indicadores de rendimiento\n",
    "- **Variables Socioeconómicas**: Estrato, educación de padres, recursos del hogar\n",
    "- **Variables Laborales**: Horas semanales de trabajo\n",
    "\n",
    "**Objetivo**: Explorar en profundidad el dataset para entender patrones, relaciones y características de los datos."
   ]
  },
  {
   "cell_type": "markdown",
   "metadata": {},
   "source": []
  },
  {
   "cell_type": "markdown",
   "metadata": {},
   "source": [
    "---\n",
    "## 1. Configuración Inicial y Carga de Datos"
   ]
  },
  {
   "cell_type": "code",
   "execution_count": null,
   "metadata": {},
   "outputs": [],
   "source": [
    "# Descargar archivos de inicialización\n",
    "!wget --no-cache -O init.py -q https://raw.githubusercontent.com/rramosp/ai4eng.v1/main/content/init.py\n",
    "import init\n",
    "init.init(force_download=False)\n",
    "init.get_weblink()"
   ]
  },
  {
   "cell_type": "markdown",
   "metadata": {},
   "source": [
    "### 1.1 Descargar datos desde Kaggle\n",
    "\n",
    "**Instrucciones:**\n",
    "1. Crear archivo `kaggle.json` con tu token de autenticación\n",
    "2. En Kaggle: click en icono de usuario (arriba-derecha) → Settings → API → Create New Token\n",
    "3. Subir el archivo a este workspace\n",
    "4. Ejecutar la siguiente celda"
   ]
  },
  {
   "cell_type": "code",
   "execution_count": null,
   "metadata": {},
   "outputs": [],
   "source": [
    "import os\n",
    "os.environ['KAGGLE_CONFIG_DIR'] = '.'\n",
    "!chmod 600 ./kaggle.json\n",
    "!kaggle competitions download -c udea-ai-4-eng-20252-pruebas-saber-pro-colombia"
   ]
  },
  {
   "cell_type": "code",
   "execution_count": null,
   "metadata": {},
   "outputs": [],
   "source": [
    "# Descomprimir archivos\n",
    "!unzip -o udea*.zip > /dev/null\n",
    "!ls -lh *.csv"
   ]
  },
  {
   "cell_type": "markdown",
   "metadata": {},
   "source": [
    "### 1.2 Importar librerías necesarias"
   ]
  },
  {
   "cell_type": "code",
   "execution_count": null,
   "metadata": {},
   "outputs": [],
   "source": [
    "# Librerías principales\n",
    "import pandas as pd\n",
    "import numpy as np\n",
    "import matplotlib.pyplot as plt\n",
    "import seaborn as sns\n",
    "from rlxutils import subplots\n",
    "\n",
    "# Configuración de visualizaciones\n",
    "plt.style.use('default')\n",
    "sns.set_palette(\"husl\")\n",
    "%matplotlib inline\n",
    "\n",
    "# Opciones de pandas para mejor visualización\n",
    "pd.set_option('display.max_columns', None)\n",
    "pd.set_option('display.max_rows', 100)\n",
    "pd.set_option('display.width', None)\n",
    "\n",
    "# Configuración de warnings\n",
    "import warnings\n",
    "warnings.filterwarnings('ignore')\n",
    "\n",
    "print(\"✓ Librerías importadas correctamente\")"
   ]
  },
  {
   "cell_type": "markdown",
   "metadata": {},
   "source": [
    "### 1.3 Cargar datasets"
   ]
  },
  {
   "cell_type": "code",
   "execution_count": null,
   "metadata": {},
   "outputs": [],
   "source": [
    "# Cargar datos de entrenamiento\n",
    "train = pd.read_csv(\"train.csv\")\n",
    "test = pd.read_csv(\"test.csv\")\n",
    "\n",
    "print(f\"Dimensiones del conjunto de entrenamiento: {train.shape}\")\n",
    "print(f\"Dimensiones del conjunto de prueba: {test.shape}\")\n",
    "print(f\"\\nTotal de registros: {train.shape[0] + test.shape[0]:,}\")"
   ]
  },
  {
   "cell_type": "code",
   "execution_count": null,
   "metadata": {},
   "outputs": [],
   "source": [
    "# Primeras filas del dataset de entrenamiento\n",
    "print(\"=\" * 80)\n",
    "print(\"PRIMERAS 5 FILAS DEL DATASET DE ENTRENAMIENTO\")\n",
    "print(\"=\" * 80)\n",
    "train.head()"
   ]
  },
  {
   "cell_type": "code",
   "execution_count": null,
   "metadata": {},
   "outputs": [],
   "source": [
    "# Información general del dataset\n",
    "print(\"=\" * 80)\n",
    "print(\"INFORMACIÓN GENERAL DEL DATASET\")\n",
    "print(\"=\" * 80)\n",
    "train.info()"
   ]
  },
  {
   "cell_type": "markdown",
   "metadata": {},
   "source": [
    "---\n",
    "## 2. Análisis de Calidad de Datos y Valores Faltantes"
   ]
  },
  {
   "cell_type": "markdown",
   "metadata": {},
   "source": [
    "### 2.1 Resumen de valores faltantes"
   ]
  },
  {
   "cell_type": "code",
   "execution_count": null,
   "metadata": {},
   "outputs": [],
   "source": [
    "# Calcular valores faltantes para cada columna\n",
    "missing_data = pd.DataFrame({\n",
    "    'Columna': train.columns,\n",
    "    'Valores_Faltantes': train.isnull().sum(),\n",
    "    'Porcentaje': (train.isnull().sum() / len(train) * 100).round(2)\n",
    "}).sort_values('Valores_Faltantes', ascending=False)\n",
    "\n",
    "missing_data = missing_data[missing_data['Valores_Faltantes'] > 0]\n",
    "\n",
    "print(\"=\" * 80)\n",
    "print(\"ANÁLISIS DE VALORES FALTANTES\")\n",
    "print(\"=\" * 80)\n",
    "if len(missing_data) > 0:\n",
    "    print(missing_data.to_string(index=False))\n",
    "    print(f\"\\nTotal de columnas con valores faltantes: {len(missing_data)}\")\n",
    "else:\n",
    "    print(\"No hay valores faltantes en el dataset\")"
   ]
  },
  {
   "cell_type": "code",
   "execution_count": null,
   "metadata": {},
   "outputs": [],
   "source": [
    "# Visualización de valores faltantes\n",
    "if len(missing_data) > 0:\n",
    "    plt.figure(figsize=(12, 6))\n",
    "    plt.barh(missing_data['Columna'], missing_data['Porcentaje'], color='coral')\n",
    "    plt.xlabel('Porcentaje de Valores Faltantes (%)', fontsize=12)\n",
    "    plt.ylabel('Columna', fontsize=12)\n",
    "    plt.title('Porcentaje de Valores Faltantes por Columna', fontsize=14, fontweight='bold')\n",
    "    plt.grid(axis='x', alpha=0.3)\n",
    "    plt.tight_layout()\n",
    "    plt.show()\n",
    "else:\n",
    "    print(\"No hay valores faltantes para visualizar\")"
   ]
  },
  {
   "cell_type": "markdown",
   "metadata": {},
   "source": [
    "### 2.2 Verificación de duplicados"
   ]
  },
  {
   "cell_type": "code",
   "execution_count": null,
   "metadata": {},
   "outputs": [],
   "source": [
    "# Verificar duplicados\n",
    "duplicados = train.duplicated().sum()\n",
    "duplicados_id = train['ID'].duplicated().sum()\n",
    "\n",
    "print(\"=\" * 80)\n",
    "print(\"ANÁLISIS DE DUPLICADOS\")\n",
    "print(\"=\" * 80)\n",
    "print(f\"Filas completamente duplicadas: {duplicados}\")\n",
    "print(f\"IDs duplicados: {duplicados_id}\")\n",
    "print(f\"IDs únicos: {train['ID'].nunique():,}\")"
   ]
  },
  {
   "cell_type": "markdown",
   "metadata": {},
   "source": [
    "### 2.3 Tipos de datos por columna"
   ]
  },
  {
   "cell_type": "code",
   "execution_count": null,
   "metadata": {},
   "outputs": [],
   "source": [
    "# Resumen de tipos de datos\n",
    "tipos_datos = pd.DataFrame({\n",
    "    'Columna': train.columns,\n",
    "    'Tipo_Dato': train.dtypes.values,\n",
    "    'Valores_Únicos': [train[col].nunique() for col in train.columns]\n",
    "})\n",
    "\n",
    "print(\"=\" * 80)\n",
    "print(\"TIPOS DE DATOS Y CARDINALIDAD\")\n",
    "print(\"=\" * 80)\n",
    "print(tipos_datos.to_string(index=False))"
   ]
  },
  {
   "cell_type": "markdown",
   "metadata": {},
   "source": [
    "---\n",
    "## 3. Análisis de la Variable Objetivo: RENDIMIENTO_GLOBAL"
   ]
  },
  {
   "cell_type": "code",
   "execution_count": null,
   "metadata": {},
   "outputs": [],
   "source": [
    "# Distribución de la variable objetivo\n",
    "print(\"=\" * 80)\n",
    "print(\"DISTRIBUCIÓN DE RENDIMIENTO_GLOBAL\")\n",
    "print(\"=\" * 80)\n",
    "\n",
    "rendimiento_counts = train['RENDIMIENTO_GLOBAL'].value_counts()\n",
    "rendimiento_pct = train['RENDIMIENTO_GLOBAL'].value_counts(normalize=True) * 100\n",
    "\n",
    "resumen_rendimiento = pd.DataFrame({\n",
    "    'Categoría': rendimiento_counts.index,\n",
    "    'Cantidad': rendimiento_counts.values,\n",
    "    'Porcentaje': rendimiento_pct.values.round(2)\n",
    "})\n",
    "\n",
    "print(resumen_rendimiento.to_string(index=False))"
   ]
  },
  {
   "cell_type": "code",
   "execution_count": null,
   "metadata": {},
   "outputs": [],
   "source": [
    "# Visualización de la variable objetivo\n",
    "fig, axes = plt.subplots(1, 2, figsize=(14, 5))\n",
    "\n",
    "# Ordenar las categorías lógicamente\n",
    "orden_rendimiento = ['bajo', 'medio-bajo', 'medio-alto', 'alto']\n",
    "colores = ['#d62728', '#ff7f0e', '#2ca02c', '#1f77b4']\n",
    "\n",
    "# Gráfico de barras\n",
    "counts_ordenado = train['RENDIMIENTO_GLOBAL'].value_counts()[orden_rendimiento]\n",
    "axes[0].bar(orden_rendimiento, counts_ordenado.values, color=colores, edgecolor='black', linewidth=1.5)\n",
    "axes[0].set_xlabel('Categoría de Rendimiento', fontsize=12)\n",
    "axes[0].set_ylabel('Cantidad de Estudiantes', fontsize=12)\n",
    "axes[0].set_title('Distribución de Rendimiento Global', fontsize=14, fontweight='bold')\n",
    "axes[0].grid(axis='y', alpha=0.3)\n",
    "\n",
    "# Agregar etiquetas con valores\n",
    "for i, v in enumerate(counts_ordenado.values):\n",
    "    axes[0].text(i, v + 2000, f'{v:,}', ha='center', va='bottom', fontweight='bold')\n",
    "\n",
    "# Gráfico de pastel\n",
    "axes[1].pie(counts_ordenado.values, labels=orden_rendimiento, autopct='%1.1f%%', \n",
    "            colors=colores, startangle=90, explode=[0.05, 0.05, 0.05, 0.05])\n",
    "axes[1].set_title('Proporción de Rendimiento Global', fontsize=14, fontweight='bold')\n",
    "\n",
    "plt.tight_layout()\n",
    "plt.show()"
   ]
  },
  {
   "cell_type": "markdown",
   "metadata": {},
   "source": [
    "---\n",
    "## 4. Análisis Univariado: Variables Categóricas"
   ]
  },
  {
   "cell_type": "markdown",
   "metadata": {},
   "source": [
    "### 4.1 Periodo Académico"
   ]
  },
  {
   "cell_type": "code",
   "execution_count": null,
   "metadata": {},
   "outputs": [],
   "source": [
    "print(\"=\" * 80)\n",
    "print(\"PERIODO_ACADEMICO\")\n",
    "print(\"=\" * 80)\n",
    "\n",
    "periodo_stats = pd.DataFrame({\n",
    "    'Periodo': train['PERIODO_ACADEMICO'].value_counts().index,\n",
    "    'Cantidad': train['PERIODO_ACADEMICO'].value_counts().values,\n",
    "    'Porcentaje': (train['PERIODO_ACADEMICO'].value_counts(normalize=True) * 100).round(2).values\n",
    "}).sort_values('Periodo')\n",
    "\n",
    "print(periodo_stats.to_string(index=False))\n",
    "\n",
    "# Visualización\n",
    "plt.figure(figsize=(10, 5))\n",
    "plt.bar(periodo_stats['Periodo'].astype(str), periodo_stats['Cantidad'], color='steelblue', edgecolor='black')\n",
    "plt.xlabel('Periodo Académico', fontsize=12)\n",
    "plt.ylabel('Número de Estudiantes', fontsize=12)\n",
    "plt.title('Distribución de Estudiantes por Periodo Académico', fontsize=14, fontweight='bold')\n",
    "plt.xticks(rotation=45)\n",
    "plt.grid(axis='y', alpha=0.3)\n",
    "plt.tight_layout()\n",
    "plt.show()"
   ]
  },
  {
   "cell_type": "markdown",
   "metadata": {},
   "source": [
    "### 4.2 Estrato Socioeconómico"
   ]
  },
  {
   "cell_type": "code",
   "execution_count": null,
   "metadata": {},
   "outputs": [],
   "source": [
    "print(\"=\" * 80)\n",
    "print(\"F_ESTRATOVIVIENDA\")\n",
    "print(\"=\" * 80)\n",
    "\n",
    "estrato_stats = pd.DataFrame({\n",
    "    'Estrato': train['F_ESTRATOVIVIENDA'].value_counts().index,\n",
    "    'Cantidad': train['F_ESTRATOVIVIENDA'].value_counts().values,\n",
    "    'Porcentaje': (train['F_ESTRATOVIVIENDA'].value_counts(normalize=True) * 100).round(2).values\n",
    "})\n",
    "\n",
    "print(estrato_stats.to_string(index=False))\n",
    "print(f\"\\nValores faltantes: {train['F_ESTRATOVIVIENDA'].isnull().sum()}\")\n",
    "\n",
    "# Visualización\n",
    "plt.figure(figsize=(10, 5))\n",
    "\n",
    "# Función para extraer el número del estrato o asignar 0 para \"Sin Estrato\"\n",
    "def extract_estrato_num(estrato_str):\n",
    "    parts = str(estrato_str).split()\n",
    "    if len(parts) >= 2 and parts[-1].isdigit():\n",
    "        return int(parts[-1])\n",
    "    return 0  # Para \"Sin Estrato\" u otros valores\n",
    "\n",
    "estrato_order = sorted([e for e in train['F_ESTRATOVIVIENDA'].dropna().unique()],\n",
    "                       key=extract_estrato_num)\n",
    "estrato_counts = train['F_ESTRATOVIVIENDA'].value_counts()[estrato_order]\n",
    "plt.bar(range(len(estrato_counts)), estrato_counts.values, color='teal', edgecolor='black')\n",
    "plt.xticks(range(len(estrato_counts)), estrato_order, rotation=0)\n",
    "plt.xlabel('Estrato', fontsize=12)\n",
    "plt.ylabel('Número de Estudiantes', fontsize=12)\n",
    "plt.title('Distribución de Estudiantes por Estrato Socioeconómico', fontsize=14, fontweight='bold')\n",
    "plt.grid(axis='y', alpha=0.3)\n",
    "plt.tight_layout()\n",
    "plt.show()"
   ]
  },
  {
   "cell_type": "markdown",
   "metadata": {},
   "source": [
    "### 4.3 Educación de la Madre"
   ]
  },
  {
   "cell_type": "code",
   "execution_count": null,
   "metadata": {},
   "outputs": [],
   "source": [
    "print(\"=\" * 80)\n",
    "print(\"F_EDUCACIONMADRE\")\n",
    "print(\"=\" * 80)\n",
    "\n",
    "edu_madre_stats = pd.DataFrame({\n",
    "    'Nivel_Educativo': train['F_EDUCACIONMADRE'].value_counts().index,\n",
    "    'Cantidad': train['F_EDUCACIONMADRE'].value_counts().values,\n",
    "    'Porcentaje': (train['F_EDUCACIONMADRE'].value_counts(normalize=True) * 100).round(2).values\n",
    "})\n",
    "\n",
    "print(edu_madre_stats.to_string(index=False))\n",
    "print(f\"\\nValores faltantes: {train['F_EDUCACIONMADRE'].isnull().sum()}\")\n",
    "\n",
    "# Visualización\n",
    "plt.figure(figsize=(12, 6))\n",
    "plt.barh(range(len(edu_madre_stats)), edu_madre_stats['Cantidad'], color='indianred', edgecolor='black')\n",
    "plt.yticks(range(len(edu_madre_stats)), edu_madre_stats['Nivel_Educativo'])\n",
    "plt.xlabel('Número de Estudiantes', fontsize=12)\n",
    "plt.ylabel('Nivel Educativo de la Madre', fontsize=12)\n",
    "plt.title('Distribución del Nivel Educativo de la Madre', fontsize=14, fontweight='bold')\n",
    "plt.grid(axis='x', alpha=0.3)\n",
    "plt.tight_layout()\n",
    "plt.show()"
   ]
  },
  {
   "cell_type": "markdown",
   "metadata": {},
   "source": [
    "### 4.4 Educación del Padre"
   ]
  },
  {
   "cell_type": "code",
   "execution_count": null,
   "metadata": {},
   "outputs": [],
   "source": [
    "print(\"=\" * 80)\n",
    "print(\"F_EDUCACIONPADRE\")\n",
    "print(\"=\" * 80)\n",
    "\n",
    "edu_padre_stats = pd.DataFrame({\n",
    "    'Nivel_Educativo': train['F_EDUCACIONPADRE'].value_counts().index,\n",
    "    'Cantidad': train['F_EDUCACIONPADRE'].value_counts().values,\n",
    "    'Porcentaje': (train['F_EDUCACIONPADRE'].value_counts(normalize=True) * 100).round(2).values\n",
    "})\n",
    "\n",
    "print(edu_padre_stats.to_string(index=False))\n",
    "print(f\"\\nValores faltantes: {train['F_EDUCACIONPADRE'].isnull().sum()}\")\n",
    "\n",
    "# Visualización\n",
    "plt.figure(figsize=(12, 6))\n",
    "plt.barh(range(len(edu_padre_stats)), edu_padre_stats['Cantidad'], color='royalblue', edgecolor='black')\n",
    "plt.yticks(range(len(edu_padre_stats)), edu_padre_stats['Nivel_Educativo'])\n",
    "plt.xlabel('Número de Estudiantes', fontsize=12)\n",
    "plt.ylabel('Nivel Educativo del Padre', fontsize=12)\n",
    "plt.title('Distribución del Nivel Educativo del Padre', fontsize=14, fontweight='bold')\n",
    "plt.grid(axis='x', alpha=0.3)\n",
    "plt.tight_layout()\n",
    "plt.show()"
   ]
  },
  {
   "cell_type": "markdown",
   "metadata": {},
   "source": [
    "### 4.5 Valor de Matrícula Universitaria"
   ]
  },
  {
   "cell_type": "code",
   "execution_count": null,
   "metadata": {},
   "outputs": [],
   "source": [
    "print(\"=\" * 80)\n",
    "print(\"E_VALORMATRICULAUNIVERSIDAD\")\n",
    "print(\"=\" * 80)\n",
    "\n",
    "matricula_stats = pd.DataFrame({\n",
    "    'Rango_Matricula': train['E_VALORMATRICULAUNIVERSIDAD'].value_counts().index,\n",
    "    'Cantidad': train['E_VALORMATRICULAUNIVERSIDAD'].value_counts().values,\n",
    "    'Porcentaje': (train['E_VALORMATRICULAUNIVERSIDAD'].value_counts(normalize=True) * 100).round(2).values\n",
    "})\n",
    "\n",
    "print(matricula_stats.to_string(index=False))\n",
    "print(f\"\\nValores faltantes: {train['E_VALORMATRICULAUNIVERSIDAD'].isnull().sum()}\")\n",
    "\n",
    "# Visualización\n",
    "plt.figure(figsize=(14, 6))\n",
    "plt.bar(range(len(matricula_stats)), matricula_stats['Cantidad'], color='darkgreen', edgecolor='black')\n",
    "plt.xticks(range(len(matricula_stats)), matricula_stats['Rango_Matricula'], rotation=45, ha='right')\n",
    "plt.xlabel('Rango de Valor de Matrícula', fontsize=12)\n",
    "plt.ylabel('Número de Estudiantes', fontsize=12)\n",
    "plt.title('Distribución del Valor de Matrícula Universitaria', fontsize=14, fontweight='bold')\n",
    "plt.grid(axis='y', alpha=0.3)\n",
    "plt.tight_layout()\n",
    "plt.show()"
   ]
  },
  {
   "cell_type": "markdown",
   "metadata": {},
   "source": [
    "### 4.6 Horas Semanales de Trabajo"
   ]
  },
  {
   "cell_type": "code",
   "execution_count": null,
   "metadata": {},
   "outputs": [],
   "source": [
    "print(\"=\" * 80)\n",
    "print(\"E_HORASSEMANATRABAJA\")\n",
    "print(\"=\" * 80)\n",
    "\n",
    "horas_stats = pd.DataFrame({\n",
    "    'Rango_Horas': train['E_HORASSEMANATRABAJA'].value_counts().index,\n",
    "    'Cantidad': train['E_HORASSEMANATRABAJA'].value_counts().values,\n",
    "    'Porcentaje': (train['E_HORASSEMANATRABAJA'].value_counts(normalize=True) * 100).round(2).values\n",
    "})\n",
    "\n",
    "print(horas_stats.to_string(index=False))\n",
    "print(f\"\\nValores faltantes: {train['E_HORASSEMANATRABAJA'].isnull().sum()}\")\n",
    "\n",
    "# Visualización\n",
    "plt.figure(figsize=(10, 5))\n",
    "plt.bar(range(len(horas_stats)), horas_stats['Cantidad'], color='orange', edgecolor='black')\n",
    "plt.xticks(range(len(horas_stats)), horas_stats['Rango_Horas'], rotation=45, ha='right')\n",
    "plt.xlabel('Horas Semanales de Trabajo', fontsize=12)\n",
    "plt.ylabel('Número de Estudiantes', fontsize=12)\n",
    "plt.title('Distribución de Horas Semanales de Trabajo', fontsize=14, fontweight='bold')\n",
    "plt.grid(axis='y', alpha=0.3)\n",
    "plt.tight_layout()\n",
    "plt.show()"
   ]
  },
  {
   "cell_type": "markdown",
   "metadata": {},
   "source": [
    "### 4.7 Recursos del Hogar (Internet, Computador, Lavadora, Automóvil)"
   ]
  },
  {
   "cell_type": "code",
   "execution_count": null,
   "metadata": {},
   "outputs": [],
   "source": [
    "# Variables de recursos del hogar\n",
    "recursos = ['F_TIENEINTERNET', 'F_TIENECOMPUTADOR', 'F_TIENELAVADORA', 'F_TIENEAUTOMOVIL']\n",
    "\n",
    "print(\"=\" * 80)\n",
    "print(\"RECURSOS DEL HOGAR\")\n",
    "print(\"=\" * 80)\n",
    "\n",
    "fig, axes = plt.subplots(2, 2, figsize=(14, 10))\n",
    "axes = axes.flatten()\n",
    "\n",
    "for idx, recurso in enumerate(recursos):\n",
    "    recurso_counts = train[recurso].value_counts()\n",
    "    \n",
    "    print(f\"\\n{recurso}:\")\n",
    "    print(f\"  Sí: {recurso_counts.get('Si', 0):,} ({recurso_counts.get('Si', 0)/len(train)*100:.2f}%)\")\n",
    "    print(f\"  No: {recurso_counts.get('No', 0):,} ({recurso_counts.get('No', 0)/len(train)*100:.2f}%)\")\n",
    "    print(f\"  Valores faltantes: {train[recurso].isnull().sum()}\")\n",
    "    \n",
    "    # Gráfico\n",
    "    axes[idx].pie([recurso_counts.get('Si', 0), recurso_counts.get('No', 0)], \n",
    "                   labels=['Sí', 'No'], autopct='%1.1f%%', \n",
    "                   colors=['lightgreen', 'lightcoral'], startangle=90)\n",
    "    axes[idx].set_title(recurso.replace('F_TIENE', 'Tiene ').replace('_', ' '), \n",
    "                        fontsize=12, fontweight='bold')\n",
    "\n",
    "plt.tight_layout()\n",
    "plt.show()"
   ]
  },
  {
   "cell_type": "markdown",
   "metadata": {},
   "source": [
    "### 4.8 Otras Variables Binarias"
   ]
  },
  {
   "cell_type": "code",
   "execution_count": null,
   "metadata": {},
   "outputs": [],
   "source": [
    "# Variables binarias adicionales\n",
    "vars_binarias = ['E_PRIVADO_LIBERTAD', 'E_PAGOMATRICULAPROPIO']\n",
    "\n",
    "print(\"=\" * 80)\n",
    "print(\"OTRAS VARIABLES BINARIAS\")\n",
    "print(\"=\" * 80)\n",
    "\n",
    "for var in vars_binarias:\n",
    "    var_counts = train[var].value_counts()\n",
    "    print(f\"\\n{var}:\")\n",
    "    for categoria, count in var_counts.items():\n",
    "        print(f\"  {categoria}: {count:,} ({count/len(train)*100:.2f}%)\")\n",
    "    print(f\"  Valores faltantes: {train[var].isnull().sum()}\")"
   ]
  },
  {
   "cell_type": "markdown",
   "metadata": {},
   "source": [
    "---\n",
    "## 5. Análisis Univariado: Variables Numéricas (Indicadores)"
   ]
  },
  {
   "cell_type": "markdown",
   "metadata": {},
   "source": [
    "### 5.1 Estadísticas Descriptivas de los Indicadores"
   ]
  },
  {
   "cell_type": "code",
   "execution_count": null,
   "metadata": {},
   "outputs": [],
   "source": [
    "# Estadísticas descriptivas de los 4 indicadores\n",
    "indicadores = ['INDICADOR_1', 'INDICADOR_2', 'INDICADOR_3', 'INDICADOR_4']\n",
    "\n",
    "print(\"=\" * 80)\n",
    "print(\"ESTADÍSTICAS DESCRIPTIVAS DE LOS INDICADORES\")\n",
    "print(\"=\" * 80)\n",
    "\n",
    "stats_indicadores = train[indicadores].describe().T\n",
    "stats_indicadores['missing'] = train[indicadores].isnull().sum()\n",
    "print(stats_indicadores.to_string())"
   ]
  },
  {
   "cell_type": "code",
   "execution_count": null,
   "metadata": {},
   "outputs": [],
   "source": [
    "# Distribuciones de los indicadores\n",
    "fig, axes = plt.subplots(2, 2, figsize=(14, 10))\n",
    "axes = axes.flatten()\n",
    "\n",
    "for idx, indicador in enumerate(indicadores):\n",
    "    axes[idx].hist(train[indicador].dropna(), bins=50, color='skyblue', edgecolor='black', alpha=0.7)\n",
    "    axes[idx].axvline(train[indicador].mean(), color='red', linestyle='--', linewidth=2, label=f'Media: {train[indicador].mean():.3f}')\n",
    "    axes[idx].axvline(train[indicador].median(), color='green', linestyle='--', linewidth=2, label=f'Mediana: {train[indicador].median():.3f}')\n",
    "    axes[idx].set_xlabel('Valor', fontsize=11)\n",
    "    axes[idx].set_ylabel('Frecuencia', fontsize=11)\n",
    "    axes[idx].set_title(f'Distribución de {indicador}', fontsize=12, fontweight='bold')\n",
    "    axes[idx].legend()\n",
    "    axes[idx].grid(alpha=0.3)\n",
    "\n",
    "plt.tight_layout()\n",
    "plt.show()"
   ]
  },
  {
   "cell_type": "code",
   "execution_count": null,
   "metadata": {},
   "outputs": [],
   "source": [
    "# Boxplots de los indicadores\n",
    "plt.figure(figsize=(12, 6))\n",
    "train[indicadores].boxplot(figsize=(12, 6))\n",
    "plt.ylabel('Valor', fontsize=12)\n",
    "plt.xlabel('Indicador', fontsize=12)\n",
    "plt.title('Boxplots de los 4 Indicadores', fontsize=14, fontweight='bold')\n",
    "plt.xticks(rotation=0)\n",
    "plt.grid(axis='y', alpha=0.3)\n",
    "plt.tight_layout()\n",
    "plt.show()"
   ]
  },
  {
   "cell_type": "markdown",
   "metadata": {},
   "source": [
    "### 5.2 Correlación entre Indicadores"
   ]
  },
  {
   "cell_type": "code",
   "execution_count": null,
   "metadata": {},
   "outputs": [],
   "source": [
    "# Matriz de correlación entre indicadores\n",
    "corr_indicadores = train[indicadores].corr()\n",
    "\n",
    "print(\"=\" * 80)\n",
    "print(\"MATRIZ DE CORRELACIÓN ENTRE INDICADORES\")\n",
    "print(\"=\" * 80)\n",
    "print(corr_indicadores.to_string())\n",
    "\n",
    "# Visualización del heatmap\n",
    "plt.figure(figsize=(8, 6))\n",
    "sns.heatmap(corr_indicadores, annot=True, fmt='.3f', cmap='coolwarm', \n",
    "            center=0, square=True, linewidths=1, cbar_kws={\"shrink\": 0.8})\n",
    "plt.title('Matriz de Correlación entre Indicadores', fontsize=14, fontweight='bold')\n",
    "plt.tight_layout()\n",
    "plt.show()"
   ]
  },
  {
   "cell_type": "markdown",
   "metadata": {},
   "source": [
    "---\n",
    "## 6. Análisis Geográfico: Distribución por Departamento"
   ]
  },
  {
   "cell_type": "code",
   "execution_count": null,
   "metadata": {},
   "outputs": [],
   "source": [
    "print(\"=\" * 80)\n",
    "print(\"E_PRGM_DEPARTAMENTO\")\n",
    "print(\"=\" * 80)\n",
    "\n",
    "depto_stats = pd.DataFrame({\n",
    "    'Departamento': train['E_PRGM_DEPARTAMENTO'].value_counts().index,\n",
    "    'Cantidad': train['E_PRGM_DEPARTAMENTO'].value_counts().values,\n",
    "    'Porcentaje': (train['E_PRGM_DEPARTAMENTO'].value_counts(normalize=True) * 100).round(2).values\n",
    "}).head(20)  # Top 20 departamentos\n",
    "\n",
    "print(\"Top 20 Departamentos con más estudiantes:\")\n",
    "print(depto_stats.to_string(index=False))\n",
    "print(f\"\\nTotal de departamentos únicos: {train['E_PRGM_DEPARTAMENTO'].nunique()}\")\n",
    "print(f\"Valores faltantes: {train['E_PRGM_DEPARTAMENTO'].isnull().sum()}\")"
   ]
  },
  {
   "cell_type": "code",
   "execution_count": null,
   "metadata": {},
   "outputs": [],
   "source": [
    "# Visualización de top 15 departamentos\n",
    "top_deptos = train['E_PRGM_DEPARTAMENTO'].value_counts().head(15)\n",
    "\n",
    "plt.figure(figsize=(12, 6))\n",
    "plt.barh(range(len(top_deptos)), top_deptos.values, color='mediumpurple', edgecolor='black')\n",
    "plt.yticks(range(len(top_deptos)), top_deptos.index)\n",
    "plt.xlabel('Número de Estudiantes', fontsize=12)\n",
    "plt.ylabel('Departamento', fontsize=12)\n",
    "plt.title('Top 15 Departamentos con Más Estudiantes', fontsize=14, fontweight='bold')\n",
    "plt.grid(axis='x', alpha=0.3)\n",
    "plt.tight_layout()\n",
    "plt.show()"
   ]
  },
  {
   "cell_type": "markdown",
   "metadata": {},
   "source": [
    "---\n",
    "## 7. Análisis de Programas Académicos"
   ]
  },
  {
   "cell_type": "code",
   "execution_count": null,
   "metadata": {},
   "outputs": [],
   "source": [
    "print(\"=\" * 80)\n",
    "print(\"E_PRGM_ACADEMICO\")\n",
    "print(\"=\" * 80)\n",
    "\n",
    "programa_stats = pd.DataFrame({\n",
    "    'Programa': train['E_PRGM_ACADEMICO'].value_counts().index,\n",
    "    'Cantidad': train['E_PRGM_ACADEMICO'].value_counts().values,\n",
    "    'Porcentaje': (train['E_PRGM_ACADEMICO'].value_counts(normalize=True) * 100).round(2).values\n",
    "}).head(20)  # Top 20 programas\n",
    "\n",
    "print(\"Top 20 Programas Académicos con más estudiantes:\")\n",
    "print(programa_stats.to_string(index=False))\n",
    "print(f\"\\nTotal de programas únicos: {train['E_PRGM_ACADEMICO'].nunique()}\")\n",
    "print(f\"Valores faltantes: {train['E_PRGM_ACADEMICO'].isnull().sum()}\")"
   ]
  },
  {
   "cell_type": "code",
   "execution_count": null,
   "metadata": {},
   "outputs": [],
   "source": [
    "# Visualización de top 15 programas\n",
    "top_programas = train['E_PRGM_ACADEMICO'].value_counts().head(15)\n",
    "\n",
    "plt.figure(figsize=(12, 6))\n",
    "plt.barh(range(len(top_programas)), top_programas.values, color='coral', edgecolor='black')\n",
    "plt.yticks(range(len(top_programas)), top_programas.index)\n",
    "plt.xlabel('Número de Estudiantes', fontsize=12)\n",
    "plt.ylabel('Programa Académico', fontsize=12)\n",
    "plt.title('Top 15 Programas Académicos con Más Estudiantes', fontsize=14, fontweight='bold')\n",
    "plt.grid(axis='x', alpha=0.3)\n",
    "plt.tight_layout()\n",
    "plt.show()"
   ]
  },
  {
   "cell_type": "markdown",
   "metadata": {},
   "source": [
    "---\n",
    "## 8. Análisis Bivariado: Variables vs RENDIMIENTO_GLOBAL"
   ]
  },
  {
   "cell_type": "markdown",
   "metadata": {},
   "source": [
    "### 8.1 Estrato Socioeconómico vs Rendimiento"
   ]
  },
  {
   "cell_type": "code",
   "execution_count": null,
   "metadata": {},
   "outputs": [],
   "source": [
    "# Visualización con gráficos de barras apiladas\n",
    "# Función para extraer el número del estrato o asignar 0 para \"Sin Estrato\"\n",
    "def extract_estrato_num(estrato_str):\n",
    "    parts = str(estrato_str).split()\n",
    "    if len(parts) >= 2 and parts[-1].isdigit():\n",
    "        return int(parts[-1])\n",
    "    return 0  # Para \"Sin Estrato\" u otros valores\n",
    "\n",
    "estratos_orden = sorted([e for e in train['F_ESTRATOVIVIENDA'].dropna().unique()],\n",
    "                        key=extract_estrato_num)\n",
    "\n",
    "fig, axes = plt.subplots(1, len(estratos_orden), figsize=(16, 5), sharey=True)\n",
    "\n",
    "for idx, estrato in enumerate(estratos_orden):\n",
    "    data_estrato = train[train['F_ESTRATOVIVIENDA'] == estrato]\n",
    "    rendimiento_counts = data_estrato['RENDIMIENTO_GLOBAL'].value_counts()[orden_rendimiento]\n",
    "    \n",
    "    axes[idx].bar(orden_rendimiento, rendimiento_counts.values, color=colores, edgecolor='black')\n",
    "    axes[idx].set_title(estrato, fontsize=11, fontweight='bold')\n",
    "    axes[idx].set_xlabel('Rendimiento', fontsize=10)\n",
    "    axes[idx].tick_params(axis='x', rotation=45)\n",
    "    axes[idx].grid(axis='y', alpha=0.3)\n",
    "\n",
    "axes[0].set_ylabel('Número de Estudiantes', fontsize=11)\n",
    "fig.suptitle('Distribución de Rendimiento por Estrato Socioeconómico', fontsize=14, fontweight='bold')\n",
    "plt.tight_layout()\n",
    "plt.show()"
   ]
  },
  {
   "cell_type": "markdown",
   "metadata": {},
   "source": [
    "### 8.2 Educación de la Madre vs Rendimiento"
   ]
  },
  {
   "cell_type": "code",
   "execution_count": null,
   "metadata": {},
   "outputs": [],
   "source": [
    "# Tabla cruzada de Educación Madre vs Rendimiento\n",
    "print(\"=\" * 80)\n",
    "print(\"EDUCACIÓN DE LA MADRE VS RENDIMIENTO GLOBAL\")\n",
    "print(\"=\" * 80)\n",
    "\n",
    "crosstab_edumadre = pd.crosstab(train['F_EDUCACIONMADRE'], train['RENDIMIENTO_GLOBAL'], normalize='index') * 100\n",
    "crosstab_edumadre = crosstab_edumadre[orden_rendimiento]\n",
    "print(\"\\nPorcentaje por fila (cada nivel educativo suma 100%):\")\n",
    "print(crosstab_edumadre.round(2).to_string())"
   ]
  },
  {
   "cell_type": "code",
   "execution_count": null,
   "metadata": {},
   "outputs": [],
   "source": [
    "# Visualización con subplots\n",
    "niveles_edu_madre = sorted(train['F_EDUCACIONMADRE'].dropna().unique())\n",
    "\n",
    "for ax, nivel in subplots(niveles_edu_madre, n_cols=4, usizex=4):\n",
    "    data_nivel = train[train['F_EDUCACIONMADRE'] == nivel]\n",
    "    rendimiento_counts = data_nivel['RENDIMIENTO_GLOBAL'].value_counts()\n",
    "    if len(rendimiento_counts) > 0:\n",
    "        rendimiento_counts[orden_rendimiento].plot(kind='bar', ax=ax, color=colores, edgecolor='black')\n",
    "    plt.title(nivel, fontsize=10)\n",
    "    plt.xlabel('')\n",
    "    plt.ylabel('Cantidad')\n",
    "    plt.xticks(rotation=45)\n",
    "    plt.grid(axis='y', alpha=0.3)\n",
    "\n",
    "plt.tight_layout()\n",
    "plt.show()"
   ]
  },
  {
   "cell_type": "markdown",
   "metadata": {},
   "source": [
    "### 8.3 Educación del Padre vs Rendimiento"
   ]
  },
  {
   "cell_type": "code",
   "execution_count": null,
   "metadata": {},
   "outputs": [],
   "source": [
    "# Tabla cruzada de Educación Padre vs Rendimiento\n",
    "print(\"=\" * 80)\n",
    "print(\"EDUCACIÓN DEL PADRE VS RENDIMIENTO GLOBAL\")\n",
    "print(\"=\" * 80)\n",
    "\n",
    "crosstab_edupadre = pd.crosstab(train['F_EDUCACIONPADRE'], train['RENDIMIENTO_GLOBAL'], normalize='index') * 100\n",
    "crosstab_edupadre = crosstab_edupadre[orden_rendimiento]\n",
    "print(\"\\nPorcentaje por fila (cada nivel educativo suma 100%):\")\n",
    "print(crosstab_edupadre.round(2).to_string())"
   ]
  },
  {
   "cell_type": "code",
   "execution_count": null,
   "metadata": {},
   "outputs": [],
   "source": [
    "# Visualización con subplots\n",
    "niveles_edu_padre = sorted(train['F_EDUCACIONPADRE'].dropna().unique())\n",
    "\n",
    "for ax, nivel in subplots(niveles_edu_padre, n_cols=4, usizex=4):\n",
    "    data_nivel = train[train['F_EDUCACIONPADRE'] == nivel]\n",
    "    rendimiento_counts = data_nivel['RENDIMIENTO_GLOBAL'].value_counts()\n",
    "    if len(rendimiento_counts) > 0:\n",
    "        rendimiento_counts[orden_rendimiento].plot(kind='bar', ax=ax, color=colores, edgecolor='black')\n",
    "    plt.title(nivel, fontsize=10)\n",
    "    plt.xlabel('')\n",
    "    plt.ylabel('Cantidad')\n",
    "    plt.xticks(rotation=45)\n",
    "    plt.grid(axis='y', alpha=0.3)\n",
    "\n",
    "plt.tight_layout()\n",
    "plt.show()"
   ]
  },
  {
   "cell_type": "markdown",
   "metadata": {},
   "source": [
    "### 8.4 Valor de Matrícula vs Rendimiento"
   ]
  },
  {
   "cell_type": "code",
   "execution_count": null,
   "metadata": {},
   "outputs": [],
   "source": [
    "# Tabla cruzada de Valor Matrícula vs Rendimiento\n",
    "print(\"=\" * 80)\n",
    "print(\"VALOR DE MATRÍCULA VS RENDIMIENTO GLOBAL\")\n",
    "print(\"=\" * 80)\n",
    "\n",
    "crosstab_matricula = pd.crosstab(train['E_VALORMATRICULAUNIVERSIDAD'], train['RENDIMIENTO_GLOBAL'], normalize='index') * 100\n",
    "crosstab_matricula = crosstab_matricula[orden_rendimiento]\n",
    "print(\"\\nPorcentaje por fila (cada rango de matrícula suma 100%):\")\n",
    "print(crosstab_matricula.round(2).to_string())"
   ]
  },
  {
   "cell_type": "code",
   "execution_count": null,
   "metadata": {},
   "outputs": [],
   "source": [
    "# Visualización con subplots\n",
    "rangos_matricula = sorted(train['E_VALORMATRICULAUNIVERSIDAD'].dropna().unique())\n",
    "\n",
    "for ax, rango in subplots(rangos_matricula, n_cols=4, usizex=4):\n",
    "    data_rango = train[train['E_VALORMATRICULAUNIVERSIDAD'] == rango]\n",
    "    rendimiento_counts = data_rango['RENDIMIENTO_GLOBAL'].value_counts()\n",
    "    if len(rendimiento_counts) > 0:\n",
    "        rendimiento_counts[orden_rendimiento].plot(kind='bar', ax=ax, color=colores, edgecolor='black')\n",
    "    plt.title(rango, fontsize=9)\n",
    "    plt.xlabel('')\n",
    "    plt.ylabel('Cantidad')\n",
    "    plt.xticks(rotation=45)\n",
    "    plt.grid(axis='y', alpha=0.3)\n",
    "\n",
    "plt.tight_layout()\n",
    "plt.show()"
   ]
  },
  {
   "cell_type": "markdown",
   "metadata": {},
   "source": [
    "### 8.5 Horas de Trabajo vs Rendimiento"
   ]
  },
  {
   "cell_type": "code",
   "execution_count": null,
   "metadata": {},
   "outputs": [],
   "source": [
    "# Tabla cruzada de Horas Trabajo vs Rendimiento\n",
    "print(\"=\" * 80)\n",
    "print(\"HORAS SEMANALES DE TRABAJO VS RENDIMIENTO GLOBAL\")\n",
    "print(\"=\" * 80)\n",
    "\n",
    "crosstab_horas = pd.crosstab(train['E_HORASSEMANATRABAJA'], train['RENDIMIENTO_GLOBAL'], normalize='index') * 100\n",
    "crosstab_horas = crosstab_horas[orden_rendimiento]\n",
    "print(\"\\nPorcentaje por fila (cada rango de horas suma 100%):\")\n",
    "print(crosstab_horas.round(2).to_string())"
   ]
  },
  {
   "cell_type": "code",
   "execution_count": null,
   "metadata": {},
   "outputs": [],
   "source": [
    "# Visualización\n",
    "rangos_horas = train['E_HORASSEMANATRABAJA'].dropna().unique()\n",
    "\n",
    "fig, axes = plt.subplots(2, 3, figsize=(15, 8))\n",
    "axes = axes.flatten()\n",
    "\n",
    "for idx, rango in enumerate(rangos_horas[:6]):\n",
    "    data_rango = train[train['E_HORASSEMANATRABAJA'] == rango]\n",
    "    rendimiento_counts = data_rango['RENDIMIENTO_GLOBAL'].value_counts()\n",
    "    if len(rendimiento_counts) > 0:\n",
    "        axes[idx].bar(orden_rendimiento, rendimiento_counts[orden_rendimiento].values, \n",
    "                      color=colores, edgecolor='black')\n",
    "    axes[idx].set_title(str(rango), fontsize=11, fontweight='bold')\n",
    "    axes[idx].set_xlabel('Rendimiento', fontsize=10)\n",
    "    axes[idx].set_ylabel('Cantidad', fontsize=10)\n",
    "    axes[idx].tick_params(axis='x', rotation=45)\n",
    "    axes[idx].grid(axis='y', alpha=0.3)\n",
    "\n",
    "plt.suptitle('Distribución de Rendimiento por Horas Semanales de Trabajo', fontsize=14, fontweight='bold')\n",
    "plt.tight_layout()\n",
    "plt.show()"
   ]
  },
  {
   "cell_type": "markdown",
   "metadata": {},
   "source": [
    "### 8.6 Recursos del Hogar vs Rendimiento"
   ]
  },
  {
   "cell_type": "code",
   "execution_count": null,
   "metadata": {},
   "outputs": [],
   "source": [
    "# Análisis de recursos del hogar vs rendimiento\n",
    "recursos = ['F_TIENEINTERNET', 'F_TIENECOMPUTADOR', 'F_TIENELAVADORA', 'F_TIENEAUTOMOVIL']\n",
    "\n",
    "fig, axes = plt.subplots(2, 2, figsize=(15, 10))\n",
    "axes = axes.flatten()\n",
    "\n",
    "for idx, recurso in enumerate(recursos):\n",
    "    print(\"=\" * 80)\n",
    "    print(f\"{recurso} VS RENDIMIENTO GLOBAL\")\n",
    "    print(\"=\" * 80)\n",
    "    \n",
    "    crosstab_recurso = pd.crosstab(train[recurso], train['RENDIMIENTO_GLOBAL'], normalize='index') * 100\n",
    "    crosstab_recurso = crosstab_recurso[orden_rendimiento]\n",
    "    print(crosstab_recurso.round(2).to_string())\n",
    "    print(\"\\n\")\n",
    "    \n",
    "    # Visualización\n",
    "    tiene_si = train[train[recurso] == 'Si']['RENDIMIENTO_GLOBAL'].value_counts()[orden_rendimiento]\n",
    "    tiene_no = train[train[recurso] == 'No']['RENDIMIENTO_GLOBAL'].value_counts()[orden_rendimiento]\n",
    "    \n",
    "    x = np.arange(len(orden_rendimiento))\n",
    "    width = 0.35\n",
    "    \n",
    "    axes[idx].bar(x - width/2, tiene_si.values, width, label='Sí tiene', color='lightgreen', edgecolor='black')\n",
    "    axes[idx].bar(x + width/2, tiene_no.values, width, label='No tiene', color='lightcoral', edgecolor='black')\n",
    "    axes[idx].set_xlabel('Rendimiento Global', fontsize=11)\n",
    "    axes[idx].set_ylabel('Cantidad', fontsize=11)\n",
    "    axes[idx].set_title(recurso.replace('F_TIENE', 'Tiene '), fontsize=12, fontweight='bold')\n",
    "    axes[idx].set_xticks(x)\n",
    "    axes[idx].set_xticklabels(orden_rendimiento, rotation=45)\n",
    "    axes[idx].legend()\n",
    "    axes[idx].grid(axis='y', alpha=0.3)\n",
    "\n",
    "plt.tight_layout()\n",
    "plt.show()"
   ]
  },
  {
   "cell_type": "markdown",
   "metadata": {},
   "source": [
    "### 8.7 Indicadores Numéricos vs Rendimiento"
   ]
  },
  {
   "cell_type": "code",
   "execution_count": null,
   "metadata": {},
   "outputs": [],
   "source": [
    "# Boxplots de indicadores por categoría de rendimiento\n",
    "fig, axes = plt.subplots(2, 2, figsize=(15, 10))\n",
    "axes = axes.flatten()\n",
    "\n",
    "for idx, indicador in enumerate(indicadores):\n",
    "    data_boxplot = [train[train['RENDIMIENTO_GLOBAL'] == cat][indicador].dropna() \n",
    "                    for cat in orden_rendimiento]\n",
    "    \n",
    "    bp = axes[idx].boxplot(data_boxplot, labels=orden_rendimiento, patch_artist=True)\n",
    "    \n",
    "    # Colorear las cajas\n",
    "    for patch, color in zip(bp['boxes'], colores):\n",
    "        patch.set_facecolor(color)\n",
    "        patch.set_alpha(0.6)\n",
    "    \n",
    "    axes[idx].set_xlabel('Rendimiento Global', fontsize=11)\n",
    "    axes[idx].set_ylabel('Valor del Indicador', fontsize=11)\n",
    "    axes[idx].set_title(f'{indicador} por Rendimiento Global', fontsize=12, fontweight='bold')\n",
    "    axes[idx].grid(axis='y', alpha=0.3)\n",
    "\n",
    "plt.tight_layout()\n",
    "plt.show()"
   ]
  },
  {
   "cell_type": "code",
   "execution_count": null,
   "metadata": {},
   "outputs": [],
   "source": [
    "# Estadísticas descriptivas de indicadores por rendimiento\n",
    "print(\"=\" * 80)\n",
    "print(\"ESTADÍSTICAS DE INDICADORES POR RENDIMIENTO GLOBAL\")\n",
    "print(\"=\" * 80)\n",
    "\n",
    "for indicador in indicadores:\n",
    "    print(f\"\\n{indicador}:\")\n",
    "    print(\"-\" * 80)\n",
    "    stats_por_rendimiento = train.groupby('RENDIMIENTO_GLOBAL')[indicador].describe()[['mean', 'std', 'min', 'max']]\n",
    "    stats_por_rendimiento = stats_por_rendimiento.reindex(orden_rendimiento)\n",
    "    print(stats_por_rendimiento.to_string())"
   ]
  },
  {
   "cell_type": "markdown",
   "metadata": {},
   "source": [
    "---\n",
    "## 9. Análisis Geográfico Detallado: Rendimiento por Departamento"
   ]
  },
  {
   "cell_type": "code",
   "execution_count": null,
   "metadata": {},
   "outputs": [],
   "source": [
    "# Top 10 departamentos por rendimiento alto\n",
    "print(\"=\" * 80)\n",
    "print(\"ANÁLISIS DE RENDIMIENTO POR DEPARTAMENTO\")\n",
    "print(\"=\" * 80)\n",
    "\n",
    "# Calcular porcentaje de rendimiento alto por departamento\n",
    "rendimiento_por_depto = train.groupby('E_PRGM_DEPARTAMENTO')['RENDIMIENTO_GLOBAL'].apply(\n",
    "    lambda x: (x == 'alto').sum() / len(x) * 100\n",
    ").sort_values(ascending=False)\n",
    "\n",
    "# Filtrar departamentos con al menos 100 estudiantes\n",
    "deptos_grandes = train['E_PRGM_DEPARTAMENTO'].value_counts()\n",
    "deptos_grandes = deptos_grandes[deptos_grandes >= 100].index\n",
    "rendimiento_por_depto_filtrado = rendimiento_por_depto[rendimiento_por_depto.index.isin(deptos_grandes)]\n",
    "\n",
    "print(\"\\nTop 15 Departamentos con Mayor Porcentaje de Rendimiento ALTO (mín. 100 estudiantes):\")\n",
    "print(rendimiento_por_depto_filtrado.head(15).to_string())\n",
    "\n",
    "print(\"\\n\\nTop 15 Departamentos con Menor Porcentaje de Rendimiento ALTO (mín. 100 estudiantes):\")\n",
    "print(rendimiento_por_depto_filtrado.tail(15).to_string())"
   ]
  },
  {
   "cell_type": "code",
   "execution_count": null,
   "metadata": {},
   "outputs": [],
   "source": [
    "# Visualización de top 10 y bottom 10 departamentos\n",
    "fig, axes = plt.subplots(1, 2, figsize=(16, 6))\n",
    "\n",
    "# Top 10\n",
    "top_10_deptos = rendimiento_por_depto_filtrado.head(10)\n",
    "axes[0].barh(range(len(top_10_deptos)), top_10_deptos.values, color='darkgreen', edgecolor='black')\n",
    "axes[0].set_yticks(range(len(top_10_deptos)))\n",
    "axes[0].set_yticklabels(top_10_deptos.index)\n",
    "axes[0].set_xlabel('% Rendimiento Alto', fontsize=12)\n",
    "axes[0].set_title('Top 10 Departamentos con Mayor % de Rendimiento Alto', fontsize=13, fontweight='bold')\n",
    "axes[0].grid(axis='x', alpha=0.3)\n",
    "axes[0].invert_yaxis()\n",
    "\n",
    "# Bottom 10\n",
    "bottom_10_deptos = rendimiento_por_depto_filtrado.tail(10)\n",
    "axes[1].barh(range(len(bottom_10_deptos)), bottom_10_deptos.values, color='darkred', edgecolor='black')\n",
    "axes[1].set_yticks(range(len(bottom_10_deptos)))\n",
    "axes[1].set_yticklabels(bottom_10_deptos.index)\n",
    "axes[1].set_xlabel('% Rendimiento Alto', fontsize=12)\n",
    "axes[1].set_title('Bottom 10 Departamentos con Menor % de Rendimiento Alto', fontsize=13, fontweight='bold')\n",
    "axes[1].grid(axis='x', alpha=0.3)\n",
    "axes[1].invert_yaxis()\n",
    "\n",
    "plt.tight_layout()\n",
    "plt.show()"
   ]
  },
  {
   "cell_type": "code",
   "execution_count": null,
   "metadata": {},
   "outputs": [],
   "source": [
    "# Distribución completa de rendimiento por departamento (top 10 departamentos con más estudiantes)\n",
    "top_10_deptos_cantidad = train['E_PRGM_DEPARTAMENTO'].value_counts().head(10)\n",
    "\n",
    "fig, axes = plt.subplots(2, 5, figsize=(18, 8))\n",
    "axes = axes.flatten()\n",
    "\n",
    "for idx, depto in enumerate(top_10_deptos_cantidad.index):\n",
    "    data_depto = train[train['E_PRGM_DEPARTAMENTO'] == depto]\n",
    "    rendimiento_counts = data_depto['RENDIMIENTO_GLOBAL'].value_counts()[orden_rendimiento]\n",
    "    \n",
    "    axes[idx].bar(orden_rendimiento, rendimiento_counts.values, color=colores, edgecolor='black')\n",
    "    axes[idx].set_title(f\"{depto}\\n(n={len(data_depto)})\", fontsize=10, fontweight='bold')\n",
    "    axes[idx].set_xlabel('Rendimiento', fontsize=9)\n",
    "    axes[idx].set_ylabel('Cantidad', fontsize=9)\n",
    "    axes[idx].tick_params(axis='x', rotation=45, labelsize=8)\n",
    "    axes[idx].grid(axis='y', alpha=0.3)\n",
    "\n",
    "plt.suptitle('Distribución de Rendimiento en los 10 Departamentos con Más Estudiantes', \n",
    "             fontsize=14, fontweight='bold')\n",
    "plt.tight_layout()\n",
    "plt.show()"
   ]
  },
  {
   "cell_type": "markdown",
   "metadata": {},
   "source": [
    "---\n",
    "## 10. Análisis Temporal: Evolución por Periodo Académico"
   ]
  },
  {
   "cell_type": "code",
   "execution_count": null,
   "metadata": {},
   "outputs": [],
   "source": [
    "# Evolución del rendimiento por periodo académico\n",
    "print(\"=\" * 80)\n",
    "print(\"EVOLUCIÓN DEL RENDIMIENTO POR PERIODO ACADÉMICO\")\n",
    "print(\"=\" * 80)\n",
    "\n",
    "# Tabla cruzada de Periodo vs Rendimiento\n",
    "crosstab_periodo = pd.crosstab(train['PERIODO_ACADEMICO'], train['RENDIMIENTO_GLOBAL'], normalize='index') * 100\n",
    "crosstab_periodo = crosstab_periodo[orden_rendimiento]\n",
    "crosstab_periodo = crosstab_periodo.sort_index()\n",
    "\n",
    "print(\"\\nPorcentaje de cada categoría de rendimiento por periodo:\")\n",
    "print(crosstab_periodo.round(2).to_string())"
   ]
  },
  {
   "cell_type": "code",
   "execution_count": null,
   "metadata": {},
   "outputs": [],
   "source": [
    "# Visualización de evolución temporal\n",
    "plt.figure(figsize=(14, 6))\n",
    "\n",
    "for categoria, color in zip(orden_rendimiento, colores):\n",
    "    plt.plot(crosstab_periodo.index.astype(str), crosstab_periodo[categoria], \n",
    "             marker='o', linewidth=2, label=categoria, color=color)\n",
    "\n",
    "plt.xlabel('Periodo Académico', fontsize=12)\n",
    "plt.ylabel('Porcentaje (%)', fontsize=12)\n",
    "plt.title('Evolución del Rendimiento Global por Periodo Académico', fontsize=14, fontweight='bold')\n",
    "plt.legend(title='Rendimiento', fontsize=11)\n",
    "plt.grid(True, alpha=0.3)\n",
    "plt.xticks(rotation=45)\n",
    "plt.tight_layout()\n",
    "plt.show()"
   ]
  },
  {
   "cell_type": "code",
   "execution_count": null,
   "metadata": {},
   "outputs": [],
   "source": [
    "# Evolución de los indicadores por periodo\n",
    "fig, axes = plt.subplots(2, 2, figsize=(15, 10))\n",
    "axes = axes.flatten()\n",
    "\n",
    "for idx, indicador in enumerate(indicadores):\n",
    "    indicador_por_periodo = train.groupby('PERIODO_ACADEMICO')[indicador].mean().sort_index()\n",
    "    \n",
    "    axes[idx].plot(indicador_por_periodo.index.astype(str), indicador_por_periodo.values, \n",
    "                   marker='o', linewidth=2, color='steelblue')\n",
    "    axes[idx].set_xlabel('Periodo Académico', fontsize=11)\n",
    "    axes[idx].set_ylabel('Valor Promedio', fontsize=11)\n",
    "    axes[idx].set_title(f'Evolución de {indicador} por Periodo', fontsize=12, fontweight='bold')\n",
    "    axes[idx].grid(True, alpha=0.3)\n",
    "    axes[idx].tick_params(axis='x', rotation=45)\n",
    "\n",
    "plt.tight_layout()\n",
    "plt.show()"
   ]
  },
  {
   "cell_type": "markdown",
   "metadata": {},
   "source": [
    "---\n",
    "## 11. Análisis de Outliers y Valores Atípicos"
   ]
  },
  {
   "cell_type": "code",
   "execution_count": null,
   "metadata": {},
   "outputs": [],
   "source": [
    "# Detección de outliers en los indicadores usando IQR\n",
    "print(\"=\" * 80)\n",
    "print(\"DETECCIÓN DE OUTLIERS EN INDICADORES (Método IQR)\")\n",
    "print(\"=\" * 80)\n",
    "\n",
    "outliers_summary = []\n",
    "\n",
    "for indicador in indicadores:\n",
    "    Q1 = train[indicador].quantile(0.25)\n",
    "    Q3 = train[indicador].quantile(0.75)\n",
    "    IQR = Q3 - Q1\n",
    "    \n",
    "    lower_bound = Q1 - 1.5 * IQR\n",
    "    upper_bound = Q3 + 1.5 * IQR\n",
    "    \n",
    "    outliers = train[(train[indicador] < lower_bound) | (train[indicador] > upper_bound)]\n",
    "    n_outliers = len(outliers)\n",
    "    pct_outliers = (n_outliers / len(train)) * 100\n",
    "    \n",
    "    outliers_summary.append({\n",
    "        'Indicador': indicador,\n",
    "        'Q1': Q1,\n",
    "        'Q3': Q3,\n",
    "        'IQR': IQR,\n",
    "        'Límite_Inferior': lower_bound,\n",
    "        'Límite_Superior': upper_bound,\n",
    "        'N_Outliers': n_outliers,\n",
    "        'Porcentaje_Outliers': pct_outliers\n",
    "    })\n",
    "\n",
    "outliers_df = pd.DataFrame(outliers_summary)\n",
    "print(outliers_df.to_string(index=False))"
   ]
  }
 ],
 "metadata": {
  "kernelspec": {
   "display_name": "Python 3",
   "language": "python",
   "name": "python3"
  },
  "language_info": {
   "codemirror_mode": {
    "name": "ipython",
    "version": 3
   },
   "file_extension": ".py",
   "mimetype": "text/x-python",
   "name": "python",
   "nbconvert_exporter": "python",
   "pygments_lexer": "ipython3",
   "version": "3.8.0"
  }
 },
 "nbformat": 4,
 "nbformat_minor": 4
}
